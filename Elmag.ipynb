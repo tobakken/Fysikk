{
 "cells": [
  {
   "cell_type": "code",
   "execution_count": 17,
   "metadata": {},
   "outputs": [],
   "source": [
    "import numpy as np\n",
    "from scipy import constants as const\n",
    "from sympy import symbols, solve, printing"
   ]
  },
  {
   "cell_type": "code",
   "execution_count": 8,
   "metadata": {},
   "outputs": [
    {
     "data": {
      "text/latex": [
       "$\\displaystyle - \\frac{Q k}{\\left(a - x\\right)^{2}} + \\frac{4 Q k}{x^{2}}$"
      ],
      "text/plain": [
       "-Q*k/(a - x)**2 + 4*Q*k/x**2"
      ]
     },
     "execution_count": 8,
     "metadata": {},
     "output_type": "execute_result"
    }
   ],
   "source": [
    "k, q, Q, a, x = symbols('k q Q a x')\n",
    "\n",
    "F_1 = (k*4*Q)/(x)**2\n",
    "F_2 = (k*Q)/(a-x)**2\n",
    "F = (F_1 - F_2)\n",
    "F"
   ]
  },
  {
   "cell_type": "code",
   "execution_count": 7,
   "metadata": {},
   "outputs": [
    {
     "data": {
      "text/latex": [
       "$\\displaystyle \\frac{q}{4 \\epsilon_{0} \\pi r}$"
      ],
      "text/plain": [
       "q/(4*epsilon_0*pi*r)"
      ]
     },
     "execution_count": 7,
     "metadata": {},
     "output_type": "execute_result"
    }
   ],
   "source": [
    "E, pi, epsilon_0, q_1, r = symbols('E pi epsilon_0 q r')\n",
    "\n",
    "E_field = (1/(4*pi*epsilon_0)) * ((q/r))\n",
    "E_field"
   ]
  },
  {
   "cell_type": "code",
   "execution_count": 19,
   "metadata": {},
   "outputs": [
    {
     "data": {
      "text/latex": [
       "$\\displaystyle \\hat{i} + \\hat{j} + \\vec{E}$"
      ],
      "text/plain": [
       "\\hat{i} + \\hat{j} + \\vec{E}"
      ]
     },
     "execution_count": 19,
     "metadata": {},
     "output_type": "execute_result"
    }
   ],
   "source": [
    "#Kordan bruke latex for finare symboler\n",
    "E_vec = symbols('\\\\vec{E}')\n",
    "k, Q, a, ihat, jhat = symbols('k Q a \\\\hat{i} \\\\hat{j}')\n",
    "E_vec + ihat + jhat"
   ]
  },
  {
   "cell_type": "code",
   "execution_count": 10,
   "metadata": {},
   "outputs": [],
   "source": [
    "def coulombs_lov(q1, q2, r):\n",
    "    k = 1/(4*np.pi*const.epsilon_0)\n",
    "    return (k*((q1*q2)/r**2))"
   ]
  },
  {
   "cell_type": "code",
   "execution_count": 22,
   "metadata": {},
   "outputs": [],
   "source": [
    "def elektrisk_felt(q, r):\n",
    "    k = 1/(4*np.pi*const.epsilon_0)\n",
    "    return (k*(q/r**2))"
   ]
  },
  {
   "cell_type": "code",
   "execution_count": 31,
   "metadata": {},
   "outputs": [],
   "source": [
    "def potensiell_energi(q1, q2, r):\n",
    "    k = 1/(4*np.pi*const.epsilon_0)\n",
    "    return (k*((q1*q2)/r))"
   ]
  },
  {
   "cell_type": "code",
   "execution_count": null,
   "metadata": {},
   "outputs": [],
   "source": [
    "def enhetsvektor(i, j):\n",
    "    lengde = np.sqrt(i**2 + j**2)\n",
    "    return [i/lengde, j/lengde]"
   ]
  },
  {
   "cell_type": "code",
   "execution_count": 21,
   "metadata": {},
   "outputs": [
    {
     "name": "stdout",
     "output_type": "stream",
     "text": [
      "Eksempel 5.3.3 fra forelesning: 8.19086243794539e-08\n"
     ]
    }
   ],
   "source": [
    "print(\"Eksempel 5.3.3 fra forelesning: {}\".format(coulombs_lov(1.6e-19, 1.6e-19, 5.3e-11)))"
   ]
  },
  {
   "cell_type": "code",
   "execution_count": 30,
   "metadata": {},
   "outputs": [
    {
     "name": "stdout",
     "output_type": "stream",
     "text": [
      "Eksempel 5.4.3 fra forelesning: 29958.51\n"
     ]
    }
   ],
   "source": [
    "print(\"Eksempel 5.4.3 fra forelesning: {:.2f}\".format(elektrisk_felt(12e-9, 0.06)))"
   ]
  }
 ],
 "metadata": {
  "interpreter": {
   "hash": "2be5faf79681da6f2a61fdfdd5405d65d042280f7fba6178067603e3a2925119"
  },
  "kernelspec": {
   "display_name": "Python 3.10.2 64-bit",
   "language": "python",
   "name": "python3"
  },
  "language_info": {
   "codemirror_mode": {
    "name": "ipython",
    "version": 3
   },
   "file_extension": ".py",
   "mimetype": "text/x-python",
   "name": "python",
   "nbconvert_exporter": "python",
   "pygments_lexer": "ipython3",
   "version": "3.10.2"
  },
  "orig_nbformat": 4
 },
 "nbformat": 4,
 "nbformat_minor": 2
}
